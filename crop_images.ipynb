{
 "cells": [
  {
   "cell_type": "code",
   "execution_count": 14,
   "metadata": {},
   "outputs": [],
   "source": [
    "from PIL import Image\n",
    "import os"
   ]
  },
  {
   "cell_type": "code",
   "execution_count": 2,
   "metadata": {},
   "outputs": [
    {
     "data": {
      "text/plain": [
       "['h.jpg', 'a.jpg', 'e.jpg', 'f.jpg', 'g.jpg', 'b.jpg', 'c.jpg', 'd.jpg']"
      ]
     },
     "execution_count": 2,
     "metadata": {},
     "output_type": "execute_result"
    }
   ],
   "source": [
    "images = os.listdir('assets/images/zapmaths')\n",
    "images"
   ]
  },
  {
   "cell_type": "code",
   "execution_count": 57,
   "metadata": {},
   "outputs": [],
   "source": [
    "for image in images:\n",
    "    img = Image.open(f'assets/images/zapmaths/{image}')\n",
    "    # resize 50%\n",
    "    img = img.resize((int(img.width/2), int(img.height/2)))\n",
    "    img = img.crop((0, 60, img.size[0], img.size[1] - 33))\n",
    "    # crop\n",
    "    # convert to png\n",
    "    img.save(f'assets/images/zapmaths/zapmaths_{image[:-4]}.png')"
   ]
  },
  {
   "cell_type": "code",
   "execution_count": 90,
   "metadata": {},
   "outputs": [],
   "source": [
    "# i = Image.open('assets/images/zapmaths/e.jpg')\n",
    "for i in images:\n",
    "    img = Image.open(f'assets/images/zapmaths/{i}')\n",
    "    img = img.crop((0, 240, img.size[0], img.size[1] - 130))\n",
    "    # img = img.resize((int(img.width/8), int(img.height/8)))\n",
    "    img.save(f'assets/images/zapmaths/output/{i[:-4]}.png')\n",
    "    "
   ]
  },
  {
   "cell_type": "code",
   "execution_count": 97,
   "metadata": {},
   "outputs": [],
   "source": [
    "# concat images\n",
    "images = os.listdir('assets/images/zapmaths/output')\n",
    "images = sorted(images)\n",
    "# images = images[:4]\n",
    "images = images[4:]\n",
    "\n",
    "imgs = [Image.open(f'assets/images/zapmaths/output/{i}') for i in images]\n",
    "widths, heights = zip(*(i.size for i in imgs))\n",
    "\n",
    "total_width = sum(widths)\n",
    "max_height = max(heights)\n",
    "\n",
    "new_im = Image.new('RGB', (total_width, max_height))\n",
    "\n",
    "x_offset = 0\n",
    "for im in imgs:\n",
    "    new_im.paste(im, (x_offset,0))\n",
    "    x_offset += im.size[0]\n",
    "    \n",
    "# new_im.save('assets/images/zapmaths1.png')\n",
    "new_im.save('assets/images/zapmaths2.png')"
   ]
  }
 ],
 "metadata": {
  "kernelspec": {
   "display_name": "Python 3",
   "language": "python",
   "name": "python3"
  },
  "language_info": {
   "codemirror_mode": {
    "name": "ipython",
    "version": 3
   },
   "file_extension": ".py",
   "mimetype": "text/x-python",
   "name": "python",
   "nbconvert_exporter": "python",
   "pygments_lexer": "ipython3",
   "version": "3.10.12"
  }
 },
 "nbformat": 4,
 "nbformat_minor": 2
}
