{
 "cells": [
  {
   "cell_type": "code",
   "execution_count": 1,
   "metadata": {},
   "outputs": [],
   "source": [
    "from PIL import Image\n",
    "import os"
   ]
  },
  {
   "cell_type": "code",
   "execution_count": 5,
   "metadata": {},
   "outputs": [
    {
     "data": {
      "text/plain": [
       "['h.jpg', 'a.jpg', 'e.jpg', 'f.jpg', 'g.jpg', 'b.jpg', 'c.jpg', 'd.jpg']"
      ]
     },
     "execution_count": 5,
     "metadata": {},
     "output_type": "execute_result"
    }
   ],
   "source": [
    "images = os.listdir('assets/images/zapmaths')[1:]\n",
    "images"
   ]
  },
  {
   "cell_type": "code",
   "execution_count": 57,
   "metadata": {},
   "outputs": [],
   "source": [
    "for image in images:\n",
    "    img = Image.open(f'assets/images/zapmaths/{image}')\n",
    "    # resize 50%\n",
    "    img = img.resize((int(img.width/2), int(img.height/2)))\n",
    "    img = img.crop((0, 60, img.size[0], img.size[1] - 33))\n",
    "    # crop\n",
    "    # convert to png\n",
    "    img.save(f'assets/images/zapmaths/zapmaths_{image[:-4]}.png')"
   ]
  },
  {
   "cell_type": "code",
   "execution_count": 6,
   "metadata": {},
   "outputs": [],
   "source": [
    "# i = Image.open('assets/images/zapmaths/e.jpg')\n",
    "for i in images:\n",
    "    img = Image.open(f'assets/images/zapmaths/{i}')\n",
    "    img = img.crop((0, 240, img.size[0], img.size[1] - 130))\n",
    "    img = img.resize((int(img.width/2), int(img.height/2)))\n",
    "    img.save(f'assets/images/zapmaths/output/{i[:-4]}.png')\n",
    "    "
   ]
  },
  {
   "cell_type": "code",
   "execution_count": 8,
   "metadata": {},
   "outputs": [],
   "source": [
    "# concat images\n",
    "images = os.listdir('assets/images/zapmaths/output')\n",
    "images = sorted(images)\n",
    "images = images[:4]\n",
    "# images = images[4:]\n",
    "\n",
    "imgs = [Image.open(f'assets/images/zapmaths/output/{i}') for i in images]\n",
    "widths, heights = zip(*(i.size for i in imgs))\n",
    "\n",
    "total_width = sum(widths)\n",
    "max_height = max(heights)\n",
    "\n",
    "new_im = Image.new('RGB', (total_width, max_height))\n",
    "\n",
    "x_offset = 0\n",
    "for im in imgs:\n",
    "    new_im.paste(im, (x_offset,0))\n",
    "    x_offset += im.size[0]\n",
    "    \n",
    "new_im.save('assets/images/zapmaths1.png')\n",
    "# new_im.save('assets/images/zapmaths2.png')"
   ]
  },
  {
   "cell_type": "code",
   "execution_count": 13,
   "metadata": {},
   "outputs": [],
   "source": [
    "from PIL import Image, ImageOps\n",
    "\n",
    "# Open the images\n",
    "img1 = Image.open('assets/images/docker_streaming.png')\n",
    "img2 = Image.open('assets/images/diagram_carburants_airflow.png')\n",
    "\n",
    "# # Ensure background is fully white by converting any transparent pixels\n",
    "# # Convert the image to \"RGBA\" if it's not already, to handle transparency\n",
    "# image = image.convert(\"RGBA\")\n",
    "\n",
    "# # Create a white background image the same size as the original\n",
    "# white_bg = Image.new(\"RGBA\", image.size, (255, 255, 255, 255))\n",
    "\n",
    "# # Composite the original image on top of the white background\n",
    "# image_with_white_bg = Image.alpha_composite(white_bg, image)\n",
    "\n",
    "# # Convert back to \"RGB\" mode (without alpha channel) to remove transparency\n",
    "# image_with_white_bg = image_with_white_bg.convert(\"RGB\")\n",
    "\n",
    "# # Save the updated image\n",
    "# output_path = '/mnt/data/docker_streaming_fully_white_bg.png'\n",
    "# image_with_white_bg.save(output_path)\n",
    "# output_path\n",
    "\n",
    "img1 = img1.convert(\"RGBA\")\n",
    "img2 = img2.convert(\"RGBA\")\n",
    "\n",
    "# Create a white background image the same size as the original\n",
    "white_bg1 = Image.new(\"RGBA\", img1.size, (255, 255, 255, 255))\n",
    "white_bg2 = Image.new(\"RGBA\", img2.size, (255, 255, 255, 255))\n",
    "\n",
    "# Composite the original image on top of the white background\n",
    "img1_with_white_bg = Image.alpha_composite(white_bg1, img1)\n",
    "img2_with_white_bg = Image.alpha_composite(white_bg2, img2)\n",
    "\n",
    "# Convert back to \"RGB\" mode (without alpha channel) to remove transparency\n",
    "img1_with_white_bg = img1_with_white_bg.convert(\"RGB\")\n",
    "img2_with_white_bg = img2_with_white_bg.convert(\"RGB\")\n",
    "\n",
    "img1 = img1_with_white_bg\n",
    "img2 = img2_with_white_bg\n",
    "\n"
   ]
  },
  {
   "cell_type": "code",
   "execution_count": 14,
   "metadata": {},
   "outputs": [],
   "source": [
    "\n",
    "# Add white border to the images\n",
    "img1 = ImageOps.expand(img1, border=10, fill='white')\n",
    "img2 = ImageOps.expand(img2, border=10, fill='white')\n",
    "\n",
    "# Create a new image with a white background\n",
    "new_im = Image.new('RGB', (img1.width, img1.height + img2.height), 'white')\n",
    "\n",
    "# Center the second image (img2 width < img1 width)\n",
    "img2 = ImageOps.pad(img2, (img1.width, img2.height), method=0, color='white')\n",
    "\n",
    "# Paste the images onto the new image\n",
    "new_im.paste(img1, (0, 0))\n",
    "new_im.paste(img2, (0, img1.height))\n",
    "\n",
    "# Save the new image\n",
    "new_im.save('assets/images/streaming_and_airflow.png')"
   ]
  }
 ],
 "metadata": {
  "kernelspec": {
   "display_name": "Python 3",
   "language": "python",
   "name": "python3"
  },
  "language_info": {
   "codemirror_mode": {
    "name": "ipython",
    "version": 3
   },
   "file_extension": ".py",
   "mimetype": "text/x-python",
   "name": "python",
   "nbconvert_exporter": "python",
   "pygments_lexer": "ipython3",
   "version": "3.10.12"
  }
 },
 "nbformat": 4,
 "nbformat_minor": 2
}
